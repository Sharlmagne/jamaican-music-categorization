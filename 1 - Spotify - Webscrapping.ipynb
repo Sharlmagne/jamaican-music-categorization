{
 "cells": [
  {
   "cell_type": "code",
   "execution_count": 1,
   "id": "97979fcb-192c-483b-9cfd-8ae50d068a49",
   "metadata": {},
   "outputs": [],
   "source": [
    "import spotipy\n",
    "from spotipy.oauth2 import SpotifyClientCredentials\n",
    "import pandas as pd\n",
    "import numpy as np\n",
    "from collections import defaultdict"
   ]
  },
  {
   "cell_type": "code",
   "execution_count": 2,
   "id": "391c8007-e2ec-47ce-bef8-fa87380f0954",
   "metadata": {},
   "outputs": [],
   "source": [
    "pd.set_option('display.max_rows', 500)\n",
    "pd.set_option('display.max_columns', 500)\n",
    "pd.set_option('display.width', 1000)"
   ]
  },
  {
   "cell_type": "code",
   "execution_count": 3,
   "id": "a9214210-e6ea-4d1e-9817-482b9d7e2300",
   "metadata": {},
   "outputs": [],
   "source": [
    "# Connect to the spotify API\n",
    "client_id = \"207d263141ce4bd489a6759df62d55fc\"\n",
    "client_secret = \"3678f66a438f48108e0c47045aa13732\"\n",
    "client_credentials_manager = SpotifyClientCredentials(client_id=client_id, client_secret=client_secret)\n",
    "sp = spotipy.Spotify(client_credentials_manager=client_credentials_manager)"
   ]
  },
  {
   "cell_type": "markdown",
   "id": "9df6a983-51f2-463f-961d-6374f448625c",
   "metadata": {
    "tags": []
   },
   "source": [
    "<h4>Functions</h4>"
   ]
  },
  {
   "cell_type": "code",
   "execution_count": 4,
   "id": "ec8bc141-5b16-4888-a3d1-e4ddd7a47463",
   "metadata": {},
   "outputs": [],
   "source": [
    "def artist_tracks(artist_id):\n",
    "    \"\"\"\n",
    "    Expects: The unique spotify id for artists\n",
    "    Return: dataframe with all the artist's tracks and features\n",
    "    \"\"\"\n",
    "    \n",
    "    # Get all of the works from the artist\n",
    "    artist_uri = sp.artist(artist_id)['uri']\n",
    "    artist_album = sp.artist_albums(artist_uri)['items']\n",
    "\n",
    "    # Create a list of all the singles for an artists\n",
    "    artist_single_names = []\n",
    "    artist_single_uri = []\n",
    "    for i in range(len(artist_album)):\n",
    "        artist_album_id = artist_album[i]['id']\n",
    "        artist_album_len = len(sp.album(artist_album_id)['tracks']['items'])\n",
    "        for j in range(artist_album_len):\n",
    "            # print(i,j)\n",
    "            artist_single_names.append(sp.album_tracks(artist_album[i]['id'])['items'][j]['name'])\n",
    "            artist_single_uri.append(sp.album_tracks(artist_album[i]['id'])['items'][j]['uri'])\n",
    "\n",
    "    # Create blank dict to populate all the necessary info\n",
    "    tracks = defaultdict(list)\n",
    "    keys = [\n",
    "        'arist_id',\n",
    "        'artist_name',\n",
    "        'track_name',\n",
    "        'track_id',\n",
    "    ]\n",
    "\n",
    "    # Populate dictionary\n",
    "    for i in artist_single_uri:\n",
    "        track_features = sp.track(i)\n",
    "        \n",
    "        tracks['arist_id'].append(track_features['artists'][0]['id'])\n",
    "        tracks['artist_name'].append(track_features['artists'][0]['name'])\n",
    "        tracks['track_name'].append(track_features['name'])\n",
    "        tracks['track_id'].append(track_features['id'])\n",
    "\n",
    "    #Convert dictionary into pandas dataframe\n",
    "    df_tracks = pd.DataFrame(tracks)\n",
    "    return df_tracks"
   ]
  },
  {
   "cell_type": "code",
   "execution_count": 5,
   "id": "40fec716-e15c-4a33-82d9-20c163320b90",
   "metadata": {},
   "outputs": [],
   "source": [
    "# Get all the tracks from a list of artists\n",
    "def get_tracks(artist_id):\n",
    "    \"\"\"\n",
    "    Expects: List of unique spotify ids for artists\n",
    "    Return: Dataframe with all the artists' tracks and features\n",
    "    \"\"\"\n",
    "    df_track = pd.DataFrame()\n",
    "    for artist in artist_id:\n",
    "        df_track_2 = artist_tracks(artist)\n",
    "        df_track = pd.concat([df_track, df_track_2], ignore_index=True)\n",
    "    return df_track    "
   ]
  },
  {
   "cell_type": "code",
   "execution_count": 6,
   "id": "f787c1a3-2ef4-471d-b202-64528200db66",
   "metadata": {},
   "outputs": [],
   "source": [
    "def playlist_artists(playlist_id):\n",
    "    \n",
    "    \"\"\"\n",
    "    Expects: Unique spotify playlist_id\n",
    "    Return: Dataframe with all the artists_name and artist_id in playlist\n",
    "    \"\"\"\n",
    "    \n",
    "    # Create playlist object\n",
    "    playlist = sp.playlist(playlist_id)['tracks']['items']\n",
    "    \n",
    "    # Collect artist name and id\n",
    "    artists = []\n",
    "    artist_id = []\n",
    "    for track in playlist:\n",
    "        artists.append(track['track']['album']['artists'][0]['name'])\n",
    "        artist_id.append(track['track']['album']['artists'][0]['id'])\n",
    "    \n",
    "    # Create dataframe\n",
    "    df_artist = pd.DataFrame({'artist': artists, 'id': artist_id}).drop_duplicates(subset='id', keep='first').sort_values('artist').reset_index(drop=True)\n",
    "    return df_artist"
   ]
  },
  {
   "cell_type": "code",
   "execution_count": 7,
   "id": "78af1b0d-ecb4-428d-a536-cc87841717fb",
   "metadata": {},
   "outputs": [],
   "source": [
    "# Get all the tracks from a list of artists\n",
    "def get_artists(playlist_id):\n",
    "    \n",
    "    \"\"\"\n",
    "    Expects: List of unique spotify playlist_id\n",
    "    Return: Dataframe with all the artists_name and artist_id in playlists\n",
    "    \"\"\"\n",
    "    \n",
    "    df_artist = pd.DataFrame()\n",
    "    for artist in playlist_id:\n",
    "        df_artist_2 = playlist_artists(artist)\n",
    "        df_artist = pd.concat([df_artist, df_artist_2]).drop_duplicates(subset='id', keep='first').sort_values('artist').reset_index(drop=True)\n",
    "    return df_artist  "
   ]
  },
  {
   "cell_type": "code",
   "execution_count": 8,
   "id": "6273bdea-87fc-42c4-9b47-e3ed3872d184",
   "metadata": {},
   "outputs": [],
   "source": [
    "# Add tracks info to existing dataframe\n",
    "def add_tracks(df_artist, df_old):\n",
    "    \n",
    "    \"\"\"\n",
    "    Expects: Dataframe with artist_ids and Dataframe to append to\n",
    "    Modifies: Append to existing dataframe that was entered as the second argument\n",
    "    Return: Dataframe with all the artists' tracks and features\n",
    "    \"\"\"\n",
    "    \n",
    "    for artist_id in df_artist['id']:\n",
    "        df = artist_tracks(artist_id)\n",
    "        df_old = pd.concat([df, df_old], ignore_index=True)\n",
    "    return df_old"
   ]
  },
  {
   "cell_type": "markdown",
   "id": "f006d5bf-643d-48cf-974c-21f5258a78b0",
   "metadata": {
    "tags": []
   },
   "source": [
    "#### Get Artists"
   ]
  },
  {
   "cell_type": "markdown",
   "id": "cfd7dc7b-78e0-4ad5-af4c-fcde984192cc",
   "metadata": {},
   "source": [
    "Playlists\n",
    "- Dancehall Offical - https://open.spotify.com/playlist/37i9dQZF1DXan38dNVDdl4?si=796f8dcd18504250\n",
    "- Dancehall Throwback - https://open.spotify.com/playlist/37i9dQZF1DWWDLvD3P5wOG?si=9cfe16982d4a4619\n",
    "- Dancehall for the Ladies - https://open.spotify.com/playlist/0Dyqw9ctRDr99alJMSs9hg?si=6b89f30cbfce4e27\n",
    "- Dancehall 2022 VP records - https://open.spotify.com/playlist/4Fz74ZmK4kIPlRAZrpS4qr?si=5d90c766cd144074\n",
    "- Reggae Mix - https://open.spotify.com/playlist/37i9dQZF1EQpjs4F0vUZ1x\n",
    "- Chilled Reggae - https://open.spotify.com/playlist/37i9dQZF1DWYtKpmml7moA\n",
    "- Island Reggae - https://open.spotify.com/playlist/37i9dQZF1DX3mvx0imueXo\n",
    "- One Love - https://open.spotify.com/playlist/37i9dQZF1DWSiyIBdVQrkk\n",
    "- Reggae Classics - https://open.spotify.com/playlist/37i9dQZF1DXbSbnqxMTGx9\n",
    "- Gully vs Gaza - https://open.spotify.com/playlist/5aq6JG4RPxrZVKwSGXIpe9 \n",
    "- Dancehall 2006~2017 - https://open.spotify.com/playlist/65H35PVeMgbHpLBaJ8dG8t\n",
    "- https://open.spotify.com/playlist/1fHhCYhV1qTDbG7AlksF9E\n",
    "- Y.t Mix Dancehall  2006 -2012 - https://open.spotify.com/playlist/3XyCpoHT3dmVK1ynfTB95k\n",
    "- 90s Dancehall - https://open.spotify.com/playlist/3dEL2fn2HqnnIpSlearSJE  \n",
    "- 80s/90s Dancehall (Old Dub) - https://open.spotify.com/playlist/3NiL4K6dkIjXWghSteDwXM\n",
    "- 80s Dancehall - https://open.spotify.com/playlist/3wHBhXPY0XBc3bIscoJ0pI\n",
    "- 90s Dancehall [1995-1999] - https://open.spotify.com/playlist/0hSaGasIKyAd0mjaQmiicP"
   ]
  },
  {
   "cell_type": "markdown",
   "id": "36d728c4-bfa4-4003-9d94-60ae75092304",
   "metadata": {},
   "source": [
    "All playlist_ids are added to list"
   ]
  },
  {
   "cell_type": "code",
   "execution_count": 11,
   "id": "33b52ca3-01ff-4026-b050-cb4a098834c7",
   "metadata": {
    "tags": []
   },
   "outputs": [],
   "source": [
    "playlist_id = ['37i9dQZF1DXan38dNVDdl4', '37i9dQZF1DWWDLvD3P5wOG', '0Dyqw9ctRDr99alJMSs9hg', '4Fz74ZmK4kIPlRAZrpS4qr','37i9dQZF1EQpjs4F0vUZ1x', \n",
    "               '37i9dQZF1DWYtKpmml7moA', '37i9dQZF1DX3mvx0imueXo', '37i9dQZF1DWSiyIBdVQrkk', '37i9dQZF1DXbSbnqxMTGx9','5aq6JG4RPxrZVKwSGXIpe9', \n",
    "               '65H35PVeMgbHpLBaJ8dG8t', '3XyCpoHT3dmVK1ynfTB95k', '3dEL2fn2HqnnIpSlearSJE', '3NiL4K6dkIjXWghSteDwXM', \n",
    "               '3wHBhXPY0XBc3bIscoJ0pI','0hSaGasIKyAd0mjaQmiicP'\n",
    "              ]"
   ]
  },
  {
   "cell_type": "markdown",
   "id": "2a0a9896-a856-4cfe-a694-3ec18af14436",
   "metadata": {},
   "source": [
    "Get all the unique artists from all the playlist and return a dataframe with artist_name and artist_id"
   ]
  },
  {
   "cell_type": "code",
   "execution_count": 12,
   "id": "160496af-57dc-479d-b35b-f67c6bbf6e38",
   "metadata": {
    "tags": []
   },
   "outputs": [],
   "source": [
    "# df_artist = get_artists(playlist_id)"
   ]
  },
  {
   "cell_type": "markdown",
   "id": "35ca9d84-15d0-45f4-919e-11b5c77b732f",
   "metadata": {},
   "source": [
    "Use industry knowledge to remove unnecessary or irrelevant artists from the dataframe, i.e. artists whose primary genre isn't Jamaican Music."
   ]
  },
  {
   "cell_type": "code",
   "execution_count": 14,
   "id": "f8977b56-9853-470a-ba71-d8280efc25db",
   "metadata": {
    "tags": []
   },
   "outputs": [],
   "source": [
    "# drop = ['The Yutes','¡MAYDAY!','Taste of Pluto','echoBeats','MXSSIVH','H.E.R.','Haleek Maul','Safaree','Active Wingz','Cruel Santino','Kevin Lyttle',\n",
    "#         'Father Philis','Various Artists','Salaam Remi','Mink Jo','Total Recall Vol. 5','Yerry Solis','The FaNaTiX','Reggae RoastInner Circle', 'Dj Jahmar',\n",
    "#         'Soul Jazz Records Presents','Rihanna','Marlon Asher','Chris Brown','Notch','Ape Drums','Juls','Mura Masa','Reggae Gold','Playing For Change',\n",
    "#         'JR Kenna','Chaka Demus & Pliers','WSTRN','Frighty','Capella Grey','Puzzle XIII','Shan Chanai','Verse Simmonds'\n",
    "# ]"
   ]
  },
  {
   "cell_type": "code",
   "execution_count": 16,
   "id": "c91d111b-aaea-4928-af1a-6ad6ee7a03f4",
   "metadata": {},
   "outputs": [
    {
     "data": {
      "text/html": [
       "<div>\n",
       "<style scoped>\n",
       "    .dataframe tbody tr th:only-of-type {\n",
       "        vertical-align: middle;\n",
       "    }\n",
       "\n",
       "    .dataframe tbody tr th {\n",
       "        vertical-align: top;\n",
       "    }\n",
       "\n",
       "    .dataframe thead th {\n",
       "        text-align: right;\n",
       "    }\n",
       "</style>\n",
       "<table border=\"1\" class=\"dataframe\">\n",
       "  <thead>\n",
       "    <tr style=\"text-align: right;\">\n",
       "      <th></th>\n",
       "      <th>artist</th>\n",
       "      <th>id</th>\n",
       "    </tr>\n",
       "  </thead>\n",
       "  <tbody>\n",
       "    <tr>\n",
       "      <th>0</th>\n",
       "      <td>10Tik</td>\n",
       "      <td>6I1j34QzSTWe6u4qQWKYJe</td>\n",
       "    </tr>\n",
       "    <tr>\n",
       "      <th>1</th>\n",
       "      <td>1Biggs Don</td>\n",
       "      <td>6NuqWCp8VQhokoHpiUY1mS</td>\n",
       "    </tr>\n",
       "    <tr>\n",
       "      <th>2</th>\n",
       "      <td>450</td>\n",
       "      <td>2v6V75NbousiJwy2HV44VL</td>\n",
       "    </tr>\n",
       "    <tr>\n",
       "      <th>3</th>\n",
       "      <td>A92</td>\n",
       "      <td>5uWT1NONby2BqNCu42fdDc</td>\n",
       "    </tr>\n",
       "    <tr>\n",
       "      <th>5</th>\n",
       "      <td>Admiral Bailey</td>\n",
       "      <td>1zYGgHaZVz4Q2NrPngXiCx</td>\n",
       "    </tr>\n",
       "  </tbody>\n",
       "</table>\n",
       "</div>"
      ],
      "text/plain": [
       "           artist                      id\n",
       "0           10Tik  6I1j34QzSTWe6u4qQWKYJe\n",
       "1      1Biggs Don  6NuqWCp8VQhokoHpiUY1mS\n",
       "2             450  2v6V75NbousiJwy2HV44VL\n",
       "3             A92  5uWT1NONby2BqNCu42fdDc\n",
       "5  Admiral Bailey  1zYGgHaZVz4Q2NrPngXiCx"
      ]
     },
     "execution_count": 16,
     "metadata": {},
     "output_type": "execute_result"
    }
   ],
   "source": [
    "# for artist in drop:\n",
    "#     if artist in list(df_artist['artist']):\n",
    "#         df_artist.drop(df_artist[df_artist['artist'] == artist].index, axis=0, inplace=True)\n",
    "#         print(artist)\n",
    "# df_artist.head()"
   ]
  },
  {
   "cell_type": "markdown",
   "id": "03f72873-75bd-49bd-bc28-f583752a5ee5",
   "metadata": {},
   "source": [
    "Create csv file from dataframe"
   ]
  },
  {
   "cell_type": "code",
   "execution_count": 17,
   "id": "ea89f4bb-8010-4f9a-8cdf-9073c28b646a",
   "metadata": {
    "tags": []
   },
   "outputs": [],
   "source": [
    "# df_artist.to_csv('artists.csv', index=False)"
   ]
  },
  {
   "cell_type": "markdown",
   "id": "7e6f046a-b538-4f6e-a5bc-45b5b44c2136",
   "metadata": {
    "tags": []
   },
   "source": [
    "#### Get Tracks for each artists"
   ]
  },
  {
   "cell_type": "markdown",
   "id": "9553bb2c-a436-4410-b16b-c780e2347a1b",
   "metadata": {},
   "source": [
    "Create empty dataframe to store track information"
   ]
  },
  {
   "cell_type": "code",
   "execution_count": 19,
   "id": "c948becc-4675-4445-82ba-cb6820acb7db",
   "metadata": {},
   "outputs": [],
   "source": [
    "# df_tracks = pd.DataFrame()"
   ]
  },
  {
   "cell_type": "markdown",
   "id": "3bafb8ab-eb73-4207-ae89-abc7858f909f",
   "metadata": {},
   "source": [
    "Due to an unavoidable timeout error from the spotify api, the df_artist dataframe needs to be splited and supervised.\n",
    "Timeout errors may still occur, however those dataframes will be manually recorded as failures, concatinated, then splited again until all the track information, for all artists is recorded."
   ]
  },
  {
   "cell_type": "code",
   "execution_count": 18,
   "id": "fcad68d5-6b75-481f-b27b-e1698a7881e0",
   "metadata": {},
   "outputs": [],
   "source": [
    "# df_split = np.array_split(df_artist, 50)"
   ]
  },
  {
   "cell_type": "markdown",
   "id": "f1c3bcaa-635a-4de2-9baa-450936be9932",
   "metadata": {},
   "source": [
    "Manually iterate through the splits and manually record failures. If there was a way to avoid the timeout error from the api, this step would not be necessary."
   ]
  },
  {
   "cell_type": "code",
   "execution_count": 22,
   "id": "a42d0c35-343f-4d19-99e8-8b3413132382",
   "metadata": {},
   "outputs": [
    {
     "name": "stdout",
     "output_type": "stream",
     "text": [
      "CPU times: total: 3 s\n",
      "Wall time: 1min 49s\n"
     ]
    }
   ],
   "source": [
    "# %%time\n",
    "# df_tracks = add_tracks(df_split[0], df_tracks)"
   ]
  },
  {
   "cell_type": "code",
   "execution_count": 16,
   "id": "9c30e04c-bd76-46ce-8c4a-2be2e5637c4d",
   "metadata": {},
   "outputs": [],
   "source": [
    "# %%time\n",
    "# df_tracks = add_tracks(df_split[0], df_tracks)"
   ]
  },
  {
   "cell_type": "code",
   "execution_count": 17,
   "id": "ce46fd5b-b71d-46f7-bdf7-d43be8c05776",
   "metadata": {},
   "outputs": [],
   "source": [
    "# %%time\n",
    "# df_tracks = add_tracks(df_split[2], df_tracks)"
   ]
  },
  {
   "cell_type": "markdown",
   "id": "748d8df0-6692-4ba4-9194-057545b9d4ce",
   "metadata": {},
   "source": [
    "- Spotify also restricts the number of requests made but does not state the number. When this happens the api will fail to launch and a new app may need to be created.\n",
    "- Max runtime before error was observed to be 15 minutes"
   ]
  },
  {
   "cell_type": "markdown",
   "id": "dfc2ad55-5e1d-4ddd-ad10-ee534a78c06c",
   "metadata": {},
   "source": [
    "Store the first database as csv before working on the failues."
   ]
  },
  {
   "cell_type": "code",
   "execution_count": 18,
   "id": "41c58ef9-3dc4-4048-a441-836b0703548d",
   "metadata": {},
   "outputs": [],
   "source": [
    "# df_tracks.to_csv('tracks.csv', index=False)"
   ]
  },
  {
   "cell_type": "markdown",
   "id": "c7f386f1-6b26-43ef-9e24-0d8ff32e05c7",
   "metadata": {},
   "source": [
    "Failures\n",
    "- [0] - timeout\n",
    "- [3] - timeout\n",
    "\n",
    "- [10] - timeout\n",
    "- [11] - timeout\n",
    "- [12] - timeout\n",
    "- [15] - timeout\n",
    "- [18] - timeout\n",
    "- [19] - timeout\n",
    "\n",
    "- [20] - timeout\n",
    "- [24] - timeout\n",
    "- [26] - timeout\n",
    "\n",
    "- [37] - timeout\n",
    "- [38] - timeout\n",
    "- [42] - timeout"
   ]
  },
  {
   "cell_type": "markdown",
   "id": "794d8fa4-32d3-44a7-8dbe-d41d29780e2e",
   "metadata": {},
   "source": [
    "Concatinate all the failures and repeat process."
   ]
  },
  {
   "cell_type": "code",
   "execution_count": 19,
   "id": "de45296e-cb8b-4711-98c4-b5d62ea54b8b",
   "metadata": {},
   "outputs": [],
   "source": [
    "# df_split = pd.concat([\n",
    "#     df_split[0],\n",
    "#     df_split[3],\n",
    "#     df_split[10],\n",
    "#     df_split[11],\n",
    "#     df_split[12],\n",
    "#     df_split[15],\n",
    "#     df_split[18],\n",
    "#     df_split[19],\n",
    "#     df_split[20],\n",
    "#     df_split[24],\n",
    "#     df_split[26],\n",
    "#     df_split[37],\n",
    "#     df_split[38],\n",
    "#     df_split[42],\n",
    "# ], ignore_index=True)"
   ]
  },
  {
   "cell_type": "code",
   "execution_count": 20,
   "id": "87255982-7d9f-4c1b-a503-17c9ceeec3d7",
   "metadata": {},
   "outputs": [],
   "source": [
    "# df_split = np.array_split(df_split, 20)"
   ]
  },
  {
   "cell_type": "code",
   "execution_count": 21,
   "id": "160aa246-3d98-470f-a182-3fd37fa57193",
   "metadata": {},
   "outputs": [],
   "source": [
    "# df_tracks_2 = pd.DataFrame()"
   ]
  },
  {
   "cell_type": "code",
   "execution_count": 22,
   "id": "6a82e9f7-b379-462e-a6c4-b5f640ecfc14",
   "metadata": {},
   "outputs": [],
   "source": [
    "# %%time\n",
    "# df_tracks_2 = add_tracks(df_split[0], df_tracks_2)"
   ]
  },
  {
   "cell_type": "code",
   "execution_count": 23,
   "id": "ced44bca-f123-47cd-a80e-663d88fe73b2",
   "metadata": {},
   "outputs": [],
   "source": [
    "# df_tracks_2.to_csv('tracks_2.csv', index=False)"
   ]
  },
  {
   "cell_type": "markdown",
   "id": "7d1922cd-f9dc-48ff-8227-3ec1346593f6",
   "metadata": {},
   "source": [
    "Concatinate all the tracks dataframe and store as one final csv."
   ]
  },
  {
   "cell_type": "code",
   "execution_count": 24,
   "id": "2a1c4b37-41ff-472b-8e12-ae65706a5ded",
   "metadata": {},
   "outputs": [],
   "source": [
    "# df_track = pd.read_csv('tracks.csv')\n",
    "# df_track_2 = pd.read_csv('tracks_2.csv')"
   ]
  },
  {
   "cell_type": "code",
   "execution_count": 25,
   "id": "bdb99960-4156-4aaa-91c3-2e2207ce0e83",
   "metadata": {},
   "outputs": [],
   "source": [
    "# df_tracks = pd.concat([\n",
    "#     df_track,\n",
    "#     df_track_2\n",
    "# ], ignore_index=True).sort_values('artist_name').reset_index(drop=True)"
   ]
  },
  {
   "cell_type": "code",
   "execution_count": 26,
   "id": "9902f225-5290-4288-9a10-30b413d976a6",
   "metadata": {},
   "outputs": [],
   "source": [
    "# df_tracks.to_csv('tracks.csv', index=False)"
   ]
  },
  {
   "cell_type": "markdown",
   "id": "7dc6942c-5426-4d12-97c7-fc1fa8ec76f5",
   "metadata": {
    "tags": []
   },
   "source": [
    "<h4>Extras</h4>"
   ]
  },
  {
   "cell_type": "code",
   "execution_count": 43,
   "id": "c393b25e-7a80-4776-b892-b31e5864ff71",
   "metadata": {},
   "outputs": [],
   "source": [
    "# df = pd.read_csv('tracks.csv')"
   ]
  },
  {
   "cell_type": "code",
   "execution_count": 44,
   "id": "f9c7bfe6-5330-4e97-9bbe-78659f5d04b8",
   "metadata": {},
   "outputs": [],
   "source": [
    "# track_id = df['track_id'].tolist()"
   ]
  },
  {
   "cell_type": "code",
   "execution_count": 62,
   "id": "190dfe5b-0281-4178-8f95-5437892727bf",
   "metadata": {},
   "outputs": [],
   "source": [
    "# track_id_split = np.array_split(track_id, 460)"
   ]
  },
  {
   "cell_type": "code",
   "execution_count": 90,
   "id": "2de18110-5e34-4415-a4ed-62d3875f9632",
   "metadata": {},
   "outputs": [
    {
     "name": "stdout",
     "output_type": "stream",
     "text": [
      "CPU times: user 455 ms, sys: 34.2 ms, total: 489 ms\n",
      "Wall time: 36.9 s\n"
     ]
    }
   ],
   "source": [
    "# %%time\n",
    "# mode = []\n",
    "# for i in range(100):\n",
    "#     mode.append(sp.audio_features(track_id_split[i]))"
   ]
  },
  {
   "cell_type": "code",
   "execution_count": 102,
   "id": "5eedaf47-691b-40c1-b062-5e4e7429b49a",
   "metadata": {},
   "outputs": [
    {
     "name": "stdout",
     "output_type": "stream",
     "text": [
      "CPU times: user 452 ms, sys: 34.6 ms, total: 486 ms\n",
      "Wall time: 41.6 s\n"
     ]
    }
   ],
   "source": [
    "# %%time\n",
    "# mode_2 = []\n",
    "# for i in range(100, 200):\n",
    "#     mode_2.append(sp.audio_features(track_id_split[i]))"
   ]
  },
  {
   "cell_type": "code",
   "execution_count": 103,
   "id": "c2ea8e46-8d88-4f18-9fe7-e58de44db9dc",
   "metadata": {},
   "outputs": [
    {
     "name": "stdout",
     "output_type": "stream",
     "text": [
      "CPU times: user 476 ms, sys: 35 ms, total: 511 ms\n",
      "Wall time: 42.3 s\n"
     ]
    }
   ],
   "source": [
    "# %%time\n",
    "# mode_3 = []\n",
    "# for i in range(200, 300):\n",
    "#     mode_3.append(sp.audio_features(track_id_split[i]))"
   ]
  },
  {
   "cell_type": "code",
   "execution_count": 104,
   "id": "412387f3-4f2d-4fba-8b43-135311ecd4c6",
   "metadata": {},
   "outputs": [
    {
     "name": "stdout",
     "output_type": "stream",
     "text": [
      "CPU times: user 453 ms, sys: 33.6 ms, total: 486 ms\n",
      "Wall time: 47 s\n"
     ]
    }
   ],
   "source": [
    "# %%time\n",
    "# mode_4 = []\n",
    "# for i in range(300, 400):\n",
    "#     mode_4.append(sp.audio_features(track_id_split[i]))"
   ]
  },
  {
   "cell_type": "code",
   "execution_count": 105,
   "id": "4da4cd6a-99a6-4544-886d-d81d4986bc95",
   "metadata": {},
   "outputs": [
    {
     "name": "stdout",
     "output_type": "stream",
     "text": [
      "CPU times: user 276 ms, sys: 23.3 ms, total: 299 ms\n",
      "Wall time: 29.8 s\n"
     ]
    }
   ],
   "source": [
    "# %%time\n",
    "# mode_5 = []\n",
    "# for i in range(400, 460):\n",
    "#     mode_5.append(sp.audio_features(track_id_split[i]))"
   ]
  },
  {
   "cell_type": "code",
   "execution_count": 119,
   "id": "f182db1e-647d-4c27-9d7f-095830e44091",
   "metadata": {},
   "outputs": [],
   "source": [
    "# track_features = []\n",
    "# for i in mode:\n",
    "#     for j in i:\n",
    "#          track_features.append(j)"
   ]
  },
  {
   "cell_type": "code",
   "execution_count": 122,
   "id": "26568bd6-882a-41d3-9264-113ba8bafd7b",
   "metadata": {},
   "outputs": [],
   "source": [
    "# for i in mode_2:\n",
    "#     for j in i:\n",
    "#          track_features.append(j)"
   ]
  },
  {
   "cell_type": "code",
   "execution_count": 123,
   "id": "421665b5-1560-44ba-85d7-b12c93085d54",
   "metadata": {},
   "outputs": [],
   "source": [
    "# for i in mode_3:\n",
    "#     for j in i:\n",
    "#          track_features.append(j)"
   ]
  },
  {
   "cell_type": "code",
   "execution_count": 124,
   "id": "3891e2b4-5821-42b7-8f58-ccb5c44729fb",
   "metadata": {},
   "outputs": [],
   "source": [
    "# for i in mode_4:\n",
    "#     for j in i:\n",
    "#          track_features.append(j)"
   ]
  },
  {
   "cell_type": "code",
   "execution_count": 125,
   "id": "db7d83bc-b328-45ba-9899-4e7ea63a38fe",
   "metadata": {},
   "outputs": [],
   "source": [
    "# for i in mode_5:\n",
    "#     for j in i:\n",
    "#          track_features.append(j)"
   ]
  },
  {
   "cell_type": "code",
   "execution_count": 126,
   "id": "58dcc69a-c1cd-4e66-9d90-b1c5cc47e4da",
   "metadata": {},
   "outputs": [
    {
     "data": {
      "text/plain": [
       "45484"
      ]
     },
     "execution_count": 126,
     "metadata": {},
     "output_type": "execute_result"
    }
   ],
   "source": [
    "# len(track_features)"
   ]
  },
  {
   "cell_type": "code",
   "execution_count": 156,
   "id": "60295784-2956-43f7-996c-8a7f121c32f4",
   "metadata": {},
   "outputs": [],
   "source": [
    "# df_track_features = pd.DataFrame(track_features)"
   ]
  },
  {
   "cell_type": "code",
   "execution_count": 157,
   "id": "5850fb16-2819-460a-9bab-ef8b57485b02",
   "metadata": {},
   "outputs": [],
   "source": [
    "# df_track_features.to_csv('track_features.csv')"
   ]
  },
  {
   "cell_type": "code",
   "execution_count": 165,
   "id": "eddc43d8-4b64-418a-bbbf-61f502771f6d",
   "metadata": {},
   "outputs": [],
   "source": [
    "# df['mode'] = df_track_features['mode']"
   ]
  },
  {
   "cell_type": "code",
   "execution_count": 166,
   "id": "efb92dd4-91f5-431d-a0ac-85999405d605",
   "metadata": {},
   "outputs": [],
   "source": [
    "# df.to_csv('tracks.csv', index=False)"
   ]
  }
 ],
 "metadata": {
  "kernelspec": {
   "display_name": "Python 3 (ipykernel)",
   "language": "python",
   "name": "python3"
  },
  "language_info": {
   "codemirror_mode": {
    "name": "ipython",
    "version": 3
   },
   "file_extension": ".py",
   "mimetype": "text/x-python",
   "name": "python",
   "nbconvert_exporter": "python",
   "pygments_lexer": "ipython3",
   "version": "3.10.5"
  }
 },
 "nbformat": 4,
 "nbformat_minor": 5
}
