{
 "cells": [
  {
   "cell_type": "code",
   "execution_count": 1,
   "id": "13edb79d-7438-44d5-907c-a875b46b3fee",
   "metadata": {},
   "outputs": [],
   "source": [
    "import spotipy\n",
    "from spotipy.oauth2 import SpotifyClientCredentials\n",
    "import pandas as pd\n",
    "import numpy as np\n",
    "from collections import defaultdict"
   ]
  },
  {
   "cell_type": "code",
   "execution_count": 2,
   "id": "1fb92f9b-16c1-4d95-91eb-64975a704ab7",
   "metadata": {},
   "outputs": [],
   "source": [
    "pd.set_option('display.max_rows', 500)\n",
    "pd.set_option('display.max_columns', 500)\n",
    "pd.set_option('display.width', 1000)"
   ]
  },
  {
   "cell_type": "code",
   "execution_count": 3,
   "id": "76dc207f-333e-4344-ac10-39f902626bd4",
   "metadata": {},
   "outputs": [],
   "source": [
    "# Connect to the spotify API\n",
    "client_id = \"207d263141ce4bd489a6759df62d55fc\"\n",
    "client_secret = \"3678f66a438f48108e0c47045aa13732\"\n",
    "client_credentials_manager = SpotifyClientCredentials(client_id=client_id, client_secret=client_secret)\n",
    "sp = spotipy.Spotify(client_credentials_manager=client_credentials_manager)"
   ]
  },
  {
   "cell_type": "code",
   "execution_count": 4,
   "id": "17d4533c-af3b-4a72-be7e-9c270b20ff4a",
   "metadata": {},
   "outputs": [],
   "source": [
    "df = pd.read_csv('tracks_classified.csv')"
   ]
  },
  {
   "cell_type": "code",
   "execution_count": 5,
   "id": "c9eb341c-0d28-4e4a-99f3-2fd4c87f06e3",
   "metadata": {},
   "outputs": [
    {
     "data": {
      "text/html": [
       "<div>\n",
       "<style scoped>\n",
       "    .dataframe tbody tr th:only-of-type {\n",
       "        vertical-align: middle;\n",
       "    }\n",
       "\n",
       "    .dataframe tbody tr th {\n",
       "        vertical-align: top;\n",
       "    }\n",
       "\n",
       "    .dataframe thead th {\n",
       "        text-align: right;\n",
       "    }\n",
       "</style>\n",
       "<table border=\"1\" class=\"dataframe\">\n",
       "  <thead>\n",
       "    <tr style=\"text-align: right;\">\n",
       "      <th></th>\n",
       "      <th>artist_id</th>\n",
       "      <th>artist_name</th>\n",
       "      <th>track_name</th>\n",
       "      <th>track_id</th>\n",
       "      <th>popularity</th>\n",
       "      <th>explicit</th>\n",
       "      <th>danceability</th>\n",
       "      <th>energy</th>\n",
       "      <th>key</th>\n",
       "      <th>loudness</th>\n",
       "      <th>speechiness</th>\n",
       "      <th>acousticness</th>\n",
       "      <th>liveness</th>\n",
       "      <th>valence</th>\n",
       "      <th>tempo</th>\n",
       "      <th>time_signature</th>\n",
       "      <th>mode</th>\n",
       "      <th>release_year</th>\n",
       "      <th>duration</th>\n",
       "      <th>clusters</th>\n",
       "    </tr>\n",
       "  </thead>\n",
       "  <tbody>\n",
       "    <tr>\n",
       "      <th>0</th>\n",
       "      <td>2O6ph9RDudyvAR4Gj6VDoE</td>\n",
       "      <td>$wizzz</td>\n",
       "      <td>L.I.F.E</td>\n",
       "      <td>0eyJ7wobiSnBiviFjDD4WV</td>\n",
       "      <td>13</td>\n",
       "      <td>False</td>\n",
       "      <td>0.618</td>\n",
       "      <td>0.557</td>\n",
       "      <td>0.0</td>\n",
       "      <td>-5.227</td>\n",
       "      <td>0.0747</td>\n",
       "      <td>0.482000</td>\n",
       "      <td>0.294</td>\n",
       "      <td>0.332</td>\n",
       "      <td>144.046</td>\n",
       "      <td>4.0</td>\n",
       "      <td>1.0</td>\n",
       "      <td>2021</td>\n",
       "      <td>2.703233</td>\n",
       "      <td>0</td>\n",
       "    </tr>\n",
       "    <tr>\n",
       "      <th>1</th>\n",
       "      <td>2O6ph9RDudyvAR4Gj6VDoE</td>\n",
       "      <td>$wizzz</td>\n",
       "      <td>G-spot</td>\n",
       "      <td>0n5HmWeoStEZzxdu4DFiBv</td>\n",
       "      <td>10</td>\n",
       "      <td>False</td>\n",
       "      <td>0.711</td>\n",
       "      <td>0.444</td>\n",
       "      <td>7.0</td>\n",
       "      <td>-7.602</td>\n",
       "      <td>0.2800</td>\n",
       "      <td>0.543000</td>\n",
       "      <td>0.118</td>\n",
       "      <td>0.630</td>\n",
       "      <td>80.210</td>\n",
       "      <td>4.0</td>\n",
       "      <td>0.0</td>\n",
       "      <td>2021</td>\n",
       "      <td>3.622750</td>\n",
       "      <td>3</td>\n",
       "    </tr>\n",
       "    <tr>\n",
       "      <th>2</th>\n",
       "      <td>2O6ph9RDudyvAR4Gj6VDoE</td>\n",
       "      <td>$wizzz</td>\n",
       "      <td>High grade</td>\n",
       "      <td>19BuQIrARlDVkOgY06BuP2</td>\n",
       "      <td>10</td>\n",
       "      <td>False</td>\n",
       "      <td>0.516</td>\n",
       "      <td>0.684</td>\n",
       "      <td>1.0</td>\n",
       "      <td>-5.736</td>\n",
       "      <td>0.0467</td>\n",
       "      <td>0.139000</td>\n",
       "      <td>0.113</td>\n",
       "      <td>0.135</td>\n",
       "      <td>99.932</td>\n",
       "      <td>4.0</td>\n",
       "      <td>0.0</td>\n",
       "      <td>2021</td>\n",
       "      <td>3.716350</td>\n",
       "      <td>0</td>\n",
       "    </tr>\n",
       "    <tr>\n",
       "      <th>3</th>\n",
       "      <td>2O6ph9RDudyvAR4Gj6VDoE</td>\n",
       "      <td>$wizzz</td>\n",
       "      <td>Story</td>\n",
       "      <td>4Fvl6HcI4kfiACcelfWhkw</td>\n",
       "      <td>10</td>\n",
       "      <td>False</td>\n",
       "      <td>0.491</td>\n",
       "      <td>0.467</td>\n",
       "      <td>0.0</td>\n",
       "      <td>-9.551</td>\n",
       "      <td>0.0545</td>\n",
       "      <td>0.154000</td>\n",
       "      <td>0.146</td>\n",
       "      <td>0.574</td>\n",
       "      <td>131.662</td>\n",
       "      <td>5.0</td>\n",
       "      <td>0.0</td>\n",
       "      <td>2021</td>\n",
       "      <td>3.245300</td>\n",
       "      <td>0</td>\n",
       "    </tr>\n",
       "    <tr>\n",
       "      <th>4</th>\n",
       "      <td>2O6ph9RDudyvAR4Gj6VDoE</td>\n",
       "      <td>$wizzz</td>\n",
       "      <td>Bubble</td>\n",
       "      <td>4VJMkS6IEdG7pN8UpJugvT</td>\n",
       "      <td>12</td>\n",
       "      <td>False</td>\n",
       "      <td>0.590</td>\n",
       "      <td>0.592</td>\n",
       "      <td>5.0</td>\n",
       "      <td>-7.909</td>\n",
       "      <td>0.2340</td>\n",
       "      <td>0.000575</td>\n",
       "      <td>0.405</td>\n",
       "      <td>0.293</td>\n",
       "      <td>70.254</td>\n",
       "      <td>3.0</td>\n",
       "      <td>0.0</td>\n",
       "      <td>2021</td>\n",
       "      <td>3.257150</td>\n",
       "      <td>0</td>\n",
       "    </tr>\n",
       "  </tbody>\n",
       "</table>\n",
       "</div>"
      ],
      "text/plain": [
       "                artist_id artist_name  track_name                track_id  popularity  explicit  danceability  energy  key  loudness  speechiness  acousticness  liveness  valence    tempo  time_signature  mode  release_year  duration  clusters\n",
       "0  2O6ph9RDudyvAR4Gj6VDoE      $wizzz     L.I.F.E  0eyJ7wobiSnBiviFjDD4WV          13     False         0.618   0.557  0.0    -5.227       0.0747      0.482000     0.294    0.332  144.046             4.0   1.0          2021  2.703233         0\n",
       "1  2O6ph9RDudyvAR4Gj6VDoE      $wizzz      G-spot  0n5HmWeoStEZzxdu4DFiBv          10     False         0.711   0.444  7.0    -7.602       0.2800      0.543000     0.118    0.630   80.210             4.0   0.0          2021  3.622750         3\n",
       "2  2O6ph9RDudyvAR4Gj6VDoE      $wizzz  High grade  19BuQIrARlDVkOgY06BuP2          10     False         0.516   0.684  1.0    -5.736       0.0467      0.139000     0.113    0.135   99.932             4.0   0.0          2021  3.716350         0\n",
       "3  2O6ph9RDudyvAR4Gj6VDoE      $wizzz       Story  4Fvl6HcI4kfiACcelfWhkw          10     False         0.491   0.467  0.0    -9.551       0.0545      0.154000     0.146    0.574  131.662             5.0   0.0          2021  3.245300         0\n",
       "4  2O6ph9RDudyvAR4Gj6VDoE      $wizzz      Bubble  4VJMkS6IEdG7pN8UpJugvT          12     False         0.590   0.592  5.0    -7.909       0.2340      0.000575     0.405    0.293   70.254             3.0   0.0          2021  3.257150         0"
      ]
     },
     "execution_count": 5,
     "metadata": {},
     "output_type": "execute_result"
    }
   ],
   "source": [
    "df.head()"
   ]
  },
  {
   "cell_type": "code",
   "execution_count": 6,
   "id": "26fdf576-48be-49bf-8d7c-1614bd9635c5",
   "metadata": {},
   "outputs": [],
   "source": [
    "df_artist = df[['track_id','clusters']]"
   ]
  },
  {
   "cell_type": "code",
   "execution_count": 7,
   "id": "890a9603-8796-4988-9398-b511d26f65a9",
   "metadata": {},
   "outputs": [
    {
     "data": {
      "text/html": [
       "<div>\n",
       "<style scoped>\n",
       "    .dataframe tbody tr th:only-of-type {\n",
       "        vertical-align: middle;\n",
       "    }\n",
       "\n",
       "    .dataframe tbody tr th {\n",
       "        vertical-align: top;\n",
       "    }\n",
       "\n",
       "    .dataframe thead th {\n",
       "        text-align: right;\n",
       "    }\n",
       "</style>\n",
       "<table border=\"1\" class=\"dataframe\">\n",
       "  <thead>\n",
       "    <tr style=\"text-align: right;\">\n",
       "      <th></th>\n",
       "      <th>track_id</th>\n",
       "      <th>clusters</th>\n",
       "    </tr>\n",
       "  </thead>\n",
       "  <tbody>\n",
       "    <tr>\n",
       "      <th>0</th>\n",
       "      <td>0eyJ7wobiSnBiviFjDD4WV</td>\n",
       "      <td>0</td>\n",
       "    </tr>\n",
       "    <tr>\n",
       "      <th>1</th>\n",
       "      <td>0n5HmWeoStEZzxdu4DFiBv</td>\n",
       "      <td>3</td>\n",
       "    </tr>\n",
       "    <tr>\n",
       "      <th>2</th>\n",
       "      <td>19BuQIrARlDVkOgY06BuP2</td>\n",
       "      <td>0</td>\n",
       "    </tr>\n",
       "    <tr>\n",
       "      <th>3</th>\n",
       "      <td>4Fvl6HcI4kfiACcelfWhkw</td>\n",
       "      <td>0</td>\n",
       "    </tr>\n",
       "    <tr>\n",
       "      <th>4</th>\n",
       "      <td>4VJMkS6IEdG7pN8UpJugvT</td>\n",
       "      <td>0</td>\n",
       "    </tr>\n",
       "  </tbody>\n",
       "</table>\n",
       "</div>"
      ],
      "text/plain": [
       "                 track_id  clusters\n",
       "0  0eyJ7wobiSnBiviFjDD4WV         0\n",
       "1  0n5HmWeoStEZzxdu4DFiBv         3\n",
       "2  19BuQIrARlDVkOgY06BuP2         0\n",
       "3  4Fvl6HcI4kfiACcelfWhkw         0\n",
       "4  4VJMkS6IEdG7pN8UpJugvT         0"
      ]
     },
     "execution_count": 7,
     "metadata": {},
     "output_type": "execute_result"
    }
   ],
   "source": [
    "df_artist.head()"
   ]
  },
  {
   "cell_type": "code",
   "execution_count": 8,
   "id": "a5f82c42-89d9-40ed-ba5f-76a87252930f",
   "metadata": {},
   "outputs": [],
   "source": [
    "cluster_1 = df_artist[df_artist['clusters'] == 0].sample(frac=1, random_state=876).head()['track_id'].values.tolist()\n",
    "cluster_2 = df_artist[df_artist['clusters'] == 1].sample(frac=1, random_state=876).head()['track_id'].values.tolist()\n",
    "cluster_3 = df_artist[df_artist['clusters'] == 2].sample(frac=1, random_state=876).head()['track_id'].values.tolist()\n",
    "cluster_4 = df_artist[df_artist['clusters'] == 3].sample(frac=1, random_state=876).head()['track_id'].values.tolist()"
   ]
  },
  {
   "cell_type": "code",
   "execution_count": 9,
   "id": "0672089e-c490-4d10-a5dd-7f9292e9802c",
   "metadata": {},
   "outputs": [],
   "source": [
    "tracks_c1 = sp.recommendations(seed_tracks=cluster_1)['tracks']\n",
    "tracks_c2 = sp.recommendations(seed_tracks=cluster_2)['tracks']\n",
    "tracks_c3 = sp.recommendations(seed_tracks=cluster_3)['tracks']\n",
    "tracks_c4 = sp.recommendations(seed_tracks=cluster_4)['tracks']"
   ]
  },
  {
   "cell_type": "code",
   "execution_count": 10,
   "id": "ae55062c-549b-435e-92cc-e2b4b73abf5d",
   "metadata": {},
   "outputs": [],
   "source": [
    "track_links_c1 =[]\n",
    "track_links_c2 =[]\n",
    "track_links_c3 =[]\n",
    "track_links_c4 =[]"
   ]
  },
  {
   "cell_type": "code",
   "execution_count": 11,
   "id": "424a8a1c-3516-476c-b60f-e3602b78ba62",
   "metadata": {},
   "outputs": [],
   "source": [
    "for i in range(len(tracks_c1)):\n",
    "    track_links_c1.append(tracks_c1[i]['external_urls']['spotify'])\n",
    "    \n",
    "for i in range(len(tracks_c2)):\n",
    "    track_links_c2.append(tracks_c2[i]['external_urls']['spotify'])\n",
    "    \n",
    "for i in range(len(tracks_c3)):\n",
    "    track_links_c3.append(tracks_c3[i]['external_urls']['spotify'])\n",
    "\n",
    "for i in range(len(tracks_c4)):\n",
    "    track_links_c4.append(tracks_c4[i]['external_urls']['spotify'])"
   ]
  },
  {
   "cell_type": "code",
   "execution_count": 12,
   "id": "8d0866ed-ca8b-4590-8d7f-8a855b8d66f6",
   "metadata": {},
   "outputs": [
    {
     "data": {
      "text/plain": [
       "['https://open.spotify.com/track/3D1IE2uy4bpgfhuqAZtifT',\n",
       " 'https://open.spotify.com/track/5F4COkM4qjkFrC65NYIGQj',\n",
       " 'https://open.spotify.com/track/20Lpc2EXeNrSrSqD9nwOyZ',\n",
       " 'https://open.spotify.com/track/5cV5ybT5zttrWbdjFMcHRC',\n",
       " 'https://open.spotify.com/track/0ncMxS90Lg4qXdv4WN1Mno',\n",
       " 'https://open.spotify.com/track/5ru1X3YMdHWPjq4xkrDZhE',\n",
       " 'https://open.spotify.com/track/5C9ov8z8H7rif9Fu4vcMvU',\n",
       " 'https://open.spotify.com/track/18BjbDamyd8ykCvio9nhaY',\n",
       " 'https://open.spotify.com/track/2EMzVTohdEDDBo0aUG308q',\n",
       " 'https://open.spotify.com/track/7tylSoiSNFh7Gdtc99SqOl',\n",
       " 'https://open.spotify.com/track/2YCcYjoyShxR1fko25WTdc',\n",
       " 'https://open.spotify.com/track/5p8neGvkbMl6VkuaspfJvC',\n",
       " 'https://open.spotify.com/track/6NcHlJiN8Gvbeg7KKNiYIp',\n",
       " 'https://open.spotify.com/track/2sGLsYiCtsDVUjloMplr5N',\n",
       " 'https://open.spotify.com/track/1nCHgECzuu3szJeVJQRnNq',\n",
       " 'https://open.spotify.com/track/5pJmnPSnNNbpOrTfbCDYtX',\n",
       " 'https://open.spotify.com/track/79NSKTDIBzVJux1B9PbPcD',\n",
       " 'https://open.spotify.com/track/55250or2vy4aNYpn32vnN2',\n",
       " 'https://open.spotify.com/track/1oTYmw2JSv3og2S5fovJot',\n",
       " 'https://open.spotify.com/track/7nykp48iD0N4k11dCYWW7x']"
      ]
     },
     "execution_count": 12,
     "metadata": {},
     "output_type": "execute_result"
    }
   ],
   "source": [
    "track_links_c1"
   ]
  },
  {
   "cell_type": "code",
   "execution_count": 13,
   "id": "a1503629-2b19-451c-a6a8-bec23ea8cf04",
   "metadata": {},
   "outputs": [
    {
     "data": {
      "text/plain": [
       "['https://open.spotify.com/track/40jlXsyUFxQywFzsDDKWPy',\n",
       " 'https://open.spotify.com/track/6Qua1lESGqFNu6T4sJyNDM',\n",
       " 'https://open.spotify.com/track/1hZHoqfoput2nvxm51Qbfj',\n",
       " 'https://open.spotify.com/track/46Sgrq50xNvAW6oRxVWAqc',\n",
       " 'https://open.spotify.com/track/68srqMaGkFicb8fKbc5vH3',\n",
       " 'https://open.spotify.com/track/76XNU1H37X8Iex63W4CrRZ',\n",
       " 'https://open.spotify.com/track/6FQ7BPoksoyQMyoyvIPRWd',\n",
       " 'https://open.spotify.com/track/7G7tgVYORlDuVprcYHuFJh',\n",
       " 'https://open.spotify.com/track/7gaQtc0vrSpmRJpSMDiPEk',\n",
       " 'https://open.spotify.com/track/0VpUeFOeU8S9Dzi8uge6PF',\n",
       " 'https://open.spotify.com/track/2d9KU4SUleCXaMeuUvCWI1',\n",
       " 'https://open.spotify.com/track/4WvydYPFeuhil11fTlnlHB',\n",
       " 'https://open.spotify.com/track/4El1WM05DHR2g54fvPrcfo',\n",
       " 'https://open.spotify.com/track/2R7fFjvXLzMrwF20uDpC3B',\n",
       " 'https://open.spotify.com/track/3sVJx2J8wj1aWRTmVa1Bcc',\n",
       " 'https://open.spotify.com/track/3QMinjF1B7KCqYaSoaagSR',\n",
       " 'https://open.spotify.com/track/6eiC1GLOcRkgyZCUNDLF8Q',\n",
       " 'https://open.spotify.com/track/7hnu9YbszRyPhx58LzJ557',\n",
       " 'https://open.spotify.com/track/4nwgKaHg9TJahiSSmt3X1x',\n",
       " 'https://open.spotify.com/track/61GJiExu3QmiHkSgKvn1w3']"
      ]
     },
     "execution_count": 13,
     "metadata": {},
     "output_type": "execute_result"
    }
   ],
   "source": [
    "track_links_c2"
   ]
  },
  {
   "cell_type": "code",
   "execution_count": 14,
   "id": "c30c4c20-6957-4e46-9f7e-b74c8a955d6b",
   "metadata": {},
   "outputs": [
    {
     "data": {
      "text/plain": [
       "['https://open.spotify.com/track/5MklSmXNprQOvXP3NuP3Wr',\n",
       " 'https://open.spotify.com/track/1tNTwSvUTM4hiBUbcVrxkg',\n",
       " 'https://open.spotify.com/track/3GzN0uzkz3OzVaEsG4my2n',\n",
       " 'https://open.spotify.com/track/320iaIF1bWZ8CppiLB1jpE',\n",
       " 'https://open.spotify.com/track/63z5FcpaPZOO5sysfRP7d5',\n",
       " 'https://open.spotify.com/track/19MEKQiLrmLnjuNirDU6cY',\n",
       " 'https://open.spotify.com/track/29QYMA4EdHD2bK0qsmp5Vy',\n",
       " 'https://open.spotify.com/track/2up28bZlSptri9mUQNPSsD',\n",
       " 'https://open.spotify.com/track/7nDbYo0fBr0gPODEmrxuta',\n",
       " 'https://open.spotify.com/track/7CWT1MWpqq15uYOx9exKqN',\n",
       " 'https://open.spotify.com/track/1Jb24khFKW3z6HN6cpWA06',\n",
       " 'https://open.spotify.com/track/7Jw2jj2NtZQDcZzhNxzBG7',\n",
       " 'https://open.spotify.com/track/7l5znwq55EO9wwo7UvsAWz',\n",
       " 'https://open.spotify.com/track/4GXsl6BhhesY0fMULm3VE7',\n",
       " 'https://open.spotify.com/track/1kFvPtkLchQ5m09Mt9qk7U',\n",
       " 'https://open.spotify.com/track/7LC5sCPdYJPgKiUXdnIlYe',\n",
       " 'https://open.spotify.com/track/7Dl5DYYzNBXArwLOJVO8RQ',\n",
       " 'https://open.spotify.com/track/62i9rVQR3qBRvYTC23ndZb',\n",
       " 'https://open.spotify.com/track/5iynCtpEY7mx4ou54tHBPH',\n",
       " 'https://open.spotify.com/track/4eMHu7VXJxl5B63vTyC1ZC']"
      ]
     },
     "execution_count": 14,
     "metadata": {},
     "output_type": "execute_result"
    }
   ],
   "source": [
    "track_links_c3"
   ]
  },
  {
   "cell_type": "code",
   "execution_count": 15,
   "id": "5dedfe31-e94a-49f9-be02-6be74b42247f",
   "metadata": {},
   "outputs": [
    {
     "data": {
      "text/plain": [
       "['https://open.spotify.com/track/7e3oUA0xifs86UA7n2tQAU',\n",
       " 'https://open.spotify.com/track/7pkhPwcGOZT8jYQqt3eByr',\n",
       " 'https://open.spotify.com/track/59c6aTjCroOUdn6qy3jWlR',\n",
       " 'https://open.spotify.com/track/0jHdxpHy4u4MulpCpaATMk',\n",
       " 'https://open.spotify.com/track/2RpnhRt3gb02tr60HZI2cD',\n",
       " 'https://open.spotify.com/track/25YbQCuZx1DYoqN0I64PnT',\n",
       " 'https://open.spotify.com/track/6QcEQwfYIBvoddS79f5SIg',\n",
       " 'https://open.spotify.com/track/0t6mUzHp6WLzPxpGPCcXTW',\n",
       " 'https://open.spotify.com/track/56ZDcszhe1eCeghso93fXP',\n",
       " 'https://open.spotify.com/track/62e9Dy7OVVSExKzlh8Er0F',\n",
       " 'https://open.spotify.com/track/1l1Vq72ebaVINhMaEJ9yAA',\n",
       " 'https://open.spotify.com/track/39NkxITdhS5BPBZ3ma2CTM',\n",
       " 'https://open.spotify.com/track/2FmD1oi2Wna2jcQcYEEYn5',\n",
       " 'https://open.spotify.com/track/7i628ClWCTuc3WIUxJ7lAQ',\n",
       " 'https://open.spotify.com/track/0qmYEbDogh2bJ3E0xfkTAS',\n",
       " 'https://open.spotify.com/track/4Vhevan9KaZqZKsVMQH9ik',\n",
       " 'https://open.spotify.com/track/0XaY7eKrRVdHQRGUZVvi7e',\n",
       " 'https://open.spotify.com/track/638uY0lcgI2GmrtiEtGKK0',\n",
       " 'https://open.spotify.com/track/7s7PlnoxsReJ2saS7218vt',\n",
       " 'https://open.spotify.com/track/5doK3h4v26QUPSfipZJBuu']"
      ]
     },
     "execution_count": 15,
     "metadata": {},
     "output_type": "execute_result"
    }
   ],
   "source": [
    "track_links_c4"
   ]
  },
  {
   "cell_type": "code",
   "execution_count": null,
   "id": "a830b960-e8c8-4b9e-b7dc-7a1c6c297550",
   "metadata": {},
   "outputs": [],
   "source": []
  }
 ],
 "metadata": {
  "kernelspec": {
   "display_name": "Python 3 (ipykernel)",
   "language": "python",
   "name": "python3"
  },
  "language_info": {
   "codemirror_mode": {
    "name": "ipython",
    "version": 3
   },
   "file_extension": ".py",
   "mimetype": "text/x-python",
   "name": "python",
   "nbconvert_exporter": "python",
   "pygments_lexer": "ipython3",
   "version": "3.10.5"
  }
 },
 "nbformat": 4,
 "nbformat_minor": 5
}
